{
 "cells": [
  {
   "cell_type": "markdown",
   "metadata": {},
   "source": [
    "Практическое задание №4: Атака DeepFool на модели ИИ"
   ]
  },
  {
   "cell_type": "markdown",
   "metadata": {},
   "source": [
    "1. Загрузка обученнной модели и данных MNIST"
   ]
  },
  {
   "cell_type": "code",
   "execution_count": null,
   "metadata": {},
   "outputs": [
    {
     "name": "stderr",
     "output_type": "stream",
     "text": [
      "WARNING:absl:Compiled the loaded model, but the compiled metrics have yet to be built. `model.compile_metrics` will be empty until you train or evaluate the model.\n"
     ]
    },
    {
     "name": "stdout",
     "output_type": "stream",
     "text": [
      "\u001b[1m313/313\u001b[0m \u001b[32m━━━━━━━━━━━━━━━━━━━━\u001b[0m\u001b[37m\u001b[0m \u001b[1m0s\u001b[0m 815us/step - accuracy: 0.9703 - loss: 0.0986\n",
      "Точность: 0.9760000109672546\n"
     ]
    }
   ],
   "source": [
    "import tensorflow as tf\n",
    "from tensorflow.keras.datasets import mnist\n",
    "from tensorflow.keras.utils import to_categorical\n",
    "\n",
    "(_, _), (test_images, test_labels) = mnist.load_data()\n",
    "\n",
    "test_images = test_images / 255.0\n",
    "\n",
    "test_labels = to_categorical(test_labels, num_classes=10)\n",
    "\n",
    "model = tf.keras.models.load_model('../prz1/mnist_model.h5')\n",
    "\n",
    "test_loss, test_acc = model.evaluate(test_images, test_labels)\n",
    "print(f'Точность: {test_acc}')"
   ]
  },
  {
   "cell_type": "markdown",
   "metadata": {},
   "source": [
    "2. Реализация атаки DeepFool с использованием Foolbox"
   ]
  },
  {
   "cell_type": "code",
   "execution_count": 2,
   "metadata": {},
   "outputs": [
    {
     "name": "stdout",
     "output_type": "stream",
     "text": [
      "WARNING:tensorflow:From c:\\Users\\ildar\\nc\\Уник\\мага\\2 курс\\1 сем\\АЗСИИ\\repo\\.venv\\Lib\\site-packages\\foolbox\\models\\tensorflow.py:13: is_gpu_available (from tensorflow.python.framework.test_util) is deprecated and will be removed in a future version.\n",
      "Instructions for updating:\n",
      "Use `tf.config.list_physical_devices('GPU')` instead.\n"
     ]
    },
    {
     "name": "stderr",
     "output_type": "stream",
     "text": [
      "WARNING:tensorflow:From c:\\Users\\ildar\\nc\\Уник\\мага\\2 курс\\1 сем\\АЗСИИ\\repo\\.venv\\Lib\\site-packages\\foolbox\\models\\tensorflow.py:13: is_gpu_available (from tensorflow.python.framework.test_util) is deprecated and will be removed in a future version.\n",
      "Instructions for updating:\n",
      "Use `tf.config.list_physical_devices('GPU')` instead.\n"
     ]
    },
    {
     "name": "stdout",
     "output_type": "stream",
     "text": [
      "tf.Tensor(7, shape=(), dtype=int64)\n"
     ]
    },
    {
     "data": {
      "image/png": "[encoded data removed]",
      "text/plain": [
       "<Figure size 1000x500 with 2 Axes>"
      ]
     },
     "metadata": {},
     "output_type": "display_data"
    }
   ],
   "source": [
    "import foolbox as fb\n",
    "import numpy as np\n",
    "import matplotlib.pyplot as plt\n",
    "import tensorflow as tf\n",
    "\n",
    "# Инициализация Foolbox модели\n",
    "fmodel = fb.TensorFlowModel(model, bounds=(-1, 1))\n",
    "\n",
    "image = tf.convert_to_tensor(test_images[1], dtype=tf.float32)[None, ...]  # Добавляем размерность для батча\n",
    "label = np.argmax(test_labels[0])  # Получаем индекс класса\n",
    "label = tf.convert_to_tensor(label, dtype=tf.int64)  # Преобразуем в тензор\n",
    "\n",
    "# Выполнение атаки\n",
    "attack = fb.attacks.L2DeepFoolAttack(steps=10)\n",
    "print(label)\n",
    "advs, _, success = attack(fmodel, image, label[None], epsilons=0.01)  # Оборачиваем метку в тензор с размерностью (1,)\n",
    "\n",
    "# Вывод результатов\n",
    "plt.figure(figsize=(10, 5))\n",
    "plt.subplot(1, 2, 1)\n",
    "plt.title(\"Оригинальное\")\n",
    "plt.imshow(image[0].numpy(), cmap=\"gray\")\n",
    "plt.axis('off')\n",
    "\n",
    "plt.subplot(1, 2, 2)\n",
    "plt.title(\"Противоречивое изображение\")\n",
    "plt.imshow(advs[0].numpy(), cmap=\"gray\")  # Предполагается, что advs имеет правильную форму\n",
    "plt.axis('off')\n",
    "\n",
    "plt.show()"
   ]
  },
  {
   "cell_type": "markdown",
   "metadata": {},
   "source": [
    "3. Оценка модели на противоречивых примерах"
   ]
  },
  {
   "cell_type": "code",
   "execution_count": 3,
   "metadata": {},
   "outputs": [
    {
     "name": "stdout",
     "output_type": "stream",
     "text": [
      "\u001b[1m313/313\u001b[0m \u001b[32m━━━━━━━━━━━━━━━━━━━━\u001b[0m\u001b[37m\u001b[0m \u001b[1m0s\u001b[0m 738us/step - accuracy: 0.0000e+00 - loss: 122.8066\n",
      "Точность (Deepfool): 0.0\n"
     ]
    }
   ],
   "source": [
    "adversarial_images = []\n",
    "\n",
    "for i in range(len(test_images)):\n",
    "    image = tf.convert_to_tensor(test_images[i], dtype=tf.float32)[None, ...]\n",
    "    label = np.argmax(test_labels[i])\n",
    "    label = tf.convert_to_tensor(label, dtype=tf.int64)\n",
    "    advs, _, success = attack(fmodel, image, label[None], epsilons=0.01)\n",
    "    adversarial_images.append(advs)\n",
    "\n",
    "adversarial_images = tf.concat(adversarial_images, axis=0)\n",
    "\n",
    "adversarial_loss, adversarial_acc = model.evaluate(adversarial_images, test_labels)\n",
    "print(f'Точность (Deepfool): {adversarial_acc}')"
   ]
  },
  {
   "cell_type": "markdown",
   "metadata": {},
   "source": [
    "На атакованных примерах точность модели равна 0%, что свидетельствует о её неспособности распознавать данные при наличии небольших целенаправленных искажений."
   ]
  }
 ],
 "metadata": {
  "kernelspec": {
   "display_name": ".venv",
   "language": "python",
   "name": "python3"
  },
  "language_info": {
   "codemirror_mode": {
    "name": "ipython",
    "version": 3
   },
   "file_extension": ".py",
   "mimetype": "text/x-python",
   "name": "python",
   "nbconvert_exporter": "python",
   "pygments_lexer": "ipython3",
   "version": "3.11.9"
  }
 },
 "nbformat": 4,
 "nbformat_minor": 2
}
