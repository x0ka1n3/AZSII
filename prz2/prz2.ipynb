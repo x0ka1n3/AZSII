{
 "cells": [
  {
   "cell_type": "markdown",
   "metadata": {},
   "source": [
    "# Практическое задание №2: Исследование атак на модели ИИ. Fast Gradient Sign Method (FGSM)"
   ]
  },
  {
   "cell_type": "markdown",
   "metadata": {},
   "source": [
    "\n",
    "1. Загрузка обученной модели и данных MNIST"
   ]
  },
  {
   "cell_type": "code",
   "execution_count": 1,
   "metadata": {},
   "outputs": [
    {
     "name": "stderr",
     "output_type": "stream",
     "text": [
      "WARNING:absl:Compiled the loaded model, but the compiled metrics have yet to be built. `model.compile_metrics` will be empty until you train or evaluate the model.\n"
     ]
    },
    {
     "name": "stdout",
     "output_type": "stream",
     "text": [
      "\u001b[1m313/313\u001b[0m \u001b[32m━━━━━━━━━━━━━━━━━━━━\u001b[0m\u001b[37m\u001b[0m \u001b[1m1s\u001b[0m 1ms/step - accuracy: 0.9703 - loss: 0.0986\n",
      "Test accuracy on clean images: 0.9760000109672546\n"
     ]
    }
   ],
   "source": [
    "import tensorflow as tf\n",
    "from tensorflow.keras.datasets import mnist\n",
    "from tensorflow.keras.utils import to_categorical\n",
    "\n",
    "# Загрузка тестовых данных MNIST\n",
    "(_, _), (test_images, test_labels) = mnist.load_data()\n",
    "\n",
    "# Нормализация данных\n",
    "test_images = test_images / 255.0\n",
    "\n",
    "# Преобразование меток в категориальный формат\n",
    "test_labels = to_categorical(test_labels, num_classes=10)\n",
    "\n",
    "# Загрузка обученной модели\n",
    "model = tf.keras.models.load_model('../prz1/mnist_model.h5')\n",
    "\n",
    "# Проверка точности модели на обычных данных\n",
    "test_loss, test_acc = model.evaluate(test_images, test_labels)\n",
    "print(f'Test accuracy on clean images: {test_acc}')"
   ]
  },
  {
   "cell_type": "markdown",
   "metadata": {},
   "source": [
    "2. Реализация атаки FGSM"
   ]
  },
  {
   "cell_type": "code",
   "execution_count": 2,
   "metadata": {},
   "outputs": [
    {
     "data": {
      "image/png": "[encoded data removed]",
      "text/plain": [
       "<Figure size 640x480 with 2 Axes>"
      ]
     },
     "metadata": {},
     "output_type": "display_data"
    }
   ],
   "source": [
    "import numpy as np\n",
    "\n",
    "def fgsm_attack(image, epsilon, gradient):\n",
    "  perturbed_image = image + epsilon * np.sign(gradient) # Применение знака градиента к изображению\n",
    "  perturbed_image = np.clip(perturbed_image, 0, 1) # Обрезка значений, чтобы они оставались в пределах [0,1]\n",
    "  return perturbed_image\n",
    "\n",
    "# Вычисление градиента\n",
    "def generate_adversarial_example(model, image, label, epsilon):\n",
    "    image = tf.convert_to_tensor(image.reshape((1, 28, 28, 1))) # Превращаем изображение в формат, подходящий для модели\n",
    "\n",
    "    # Если label — это one-hot вектор, преобразуем его в индекс\n",
    "    if len(label.shape) > 1 and label.shape[1] > 1:\n",
    "        label = np.argmax(label)\n",
    "    label = tf.convert_to_tensor(label)\n",
    "\n",
    "    with tf.GradientTape() as tape:\n",
    "        tape.watch(image)\n",
    "        prediction = model(image)\n",
    "        loss = tf.keras.losses.categorical_crossentropy(label[None], prediction)\n",
    "\n",
    "    gradient = tape.gradient(loss, image)\n",
    "    adversarial_image = fgsm_attack(image.numpy(), epsilon, gradient.numpy())\n",
    "\n",
    "    return np.reshape(adversarial_image, (28, 28, 1))\n",
    "\n",
    "epsilon = 0.1  # Величина шума\n",
    "adversarial_example = generate_adversarial_example(model, test_images[0], test_labels[0], epsilon)\n",
    "\n",
    "import matplotlib.pyplot as plt\n",
    "plt.figure()\n",
    "plt.subplot(1, 2, 1)\n",
    "plt.title(\"Оригинальное изображение\")\n",
    "plt.imshow(test_images[0], cmap=\"gray\")\n",
    "plt.subplot(1, 2, 2)\n",
    "plt.title(\"Противоречивое изображение\")\n",
    "plt.imshow(adversarial_example.reshape(28, 28), cmap=\"gray\")\n",
    "plt.show()"
   ]
  },
  {
   "cell_type": "markdown",
   "metadata": {},
   "source": [
    "3. Оценка модели на противоречивых примерах"
   ]
  },
  {
   "cell_type": "code",
   "execution_count": 3,
   "metadata": {},
   "outputs": [
    {
     "name": "stdout",
     "output_type": "stream",
     "text": [
      "\u001b[1m313/313\u001b[0m \u001b[32m━━━━━━━━━━━━━━━━━━━━\u001b[0m\u001b[37m\u001b[0m \u001b[1m0s\u001b[0m 1ms/step - accuracy: 0.0767 - loss: 6.8018\n",
      "Accuracy on a small subset of adversarial examples: 0.10300000011920929\n"
     ]
    }
   ],
   "source": [
    "# Генерация противоречивых примеров для всего набора данных\n",
    "def generate_adversarial_dataset(model, images, labels, epsilon):\n",
    "    adversarial_images = []\n",
    "    for i in range(len(images)):\n",
    "        adv_image = generate_adversarial_example(model, images[i], labels[i], epsilon)\n",
    "        adversarial_images.append(adv_image.reshape(28, 28))\n",
    "\n",
    "    adversarial_images = np.array(adversarial_images)\n",
    "\n",
    "    return adversarial_images\n",
    "\n",
    "# Генерация противоречивых примеров\n",
    "adversarial_images = generate_adversarial_dataset(model, test_images, test_labels, epsilon)\n",
    "\n",
    "# Оценка модели на противоречивых примерах\n",
    "adversarial_loss, adversarial_acc = model.evaluate(adversarial_images, test_labels)\n",
    "print(f'Accuracy on a small subset of adversarial examples: {adversarial_acc}')"
   ]
  },
  {
   "cell_type": "markdown",
   "metadata": {},
   "source": [
    "4. Сравнение результатов"
   ]
  },
  {
   "cell_type": "code",
   "execution_count": 4,
   "metadata": {},
   "outputs": [
    {
     "name": "stdout",
     "output_type": "stream",
     "text": [
      "Точность на чистых изображениях: 0.9760000109672546\n",
      "Точность на противоречивых примерах: 0.10300000011920929\n"
     ]
    }
   ],
   "source": [
    "print(f'Точность на чистых изображениях: {test_acc}')\n",
    "print(f'Точность на противоречивых примерах: {adversarial_acc}')"
   ]
  }
 ],
 "metadata": {
  "kernelspec": {
   "display_name": ".venv",
   "language": "python",
   "name": "python3"
  },
  "language_info": {
   "codemirror_mode": {
    "name": "ipython",
    "version": 3
   },
   "file_extension": ".py",
   "mimetype": "text/x-python",
   "name": "python",
   "nbconvert_exporter": "python",
   "pygments_lexer": "ipython3",
   "version": "3.11.5"
  }
 },
 "nbformat": 4,
 "nbformat_minor": 2
}
