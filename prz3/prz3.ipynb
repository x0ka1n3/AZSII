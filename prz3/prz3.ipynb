{
 "cells": [
  {
   "cell_type": "markdown",
   "metadata": {},
   "source": [
    "Практическое задание №3: Атака Carlini-Wagner (CW) на модели ИИ"
   ]
  },
  {
   "cell_type": "markdown",
   "metadata": {},
   "source": [
    "1. Загрузка обученной модели и данных MNIST"
   ]
  },
  {
   "cell_type": "code",
   "execution_count": 1,
   "metadata": {},
   "outputs": [
    {
     "name": "stdout",
     "output_type": "stream",
     "text": [
      "Downloading data from https://storage.googleapis.com/tensorflow/tf-keras-datasets/mnist.npz\n",
      "\u001b[1m11490434/11490434\u001b[0m \u001b[32m━━━━━━━━━━━━━━━━━━━━\u001b[0m\u001b[37m\u001b[0m \u001b[1m1s\u001b[0m 0us/step\n"
     ]
    },
    {
     "name": "stderr",
     "output_type": "stream",
     "text": [
      "WARNING:absl:Compiled the loaded model, but the compiled metrics have yet to be built. `model.compile_metrics` will be empty until you train or evaluate the model.\n"
     ]
    },
    {
     "name": "stdout",
     "output_type": "stream",
     "text": [
      "\u001b[1m313/313\u001b[0m \u001b[32m━━━━━━━━━━━━━━━━━━━━\u001b[0m\u001b[37m\u001b[0m \u001b[1m0s\u001b[0m 625us/step - accuracy: 0.9703 - loss: 0.0986\n",
      "Точность: 0.9760000109672546\n"
     ]
    }
   ],
   "source": [
    "import tensorflow as tf\n",
    "from tensorflow.keras.datasets import mnist\n",
    "from tensorflow.keras.utils import to_categorical\n",
    "\n",
    "(_, _), (test_images, test_labels) = mnist.load_data()\n",
    "\n",
    "test_images = test_images / 255.0\n",
    "\n",
    "test_labels = to_categorical(test_labels, num_classes=10)\n",
    "\n",
    "model = tf.keras.models.load_model('../prz1/mnist_model.h5')\n",
    "\n",
    "test_loss, test_acc = model.evaluate(test_images, test_labels)\n",
    "print(f'Точность: {test_acc}')"
   ]
  },
  {
   "cell_type": "markdown",
   "metadata": {},
   "source": [
    "2. Реализация атаки Carlini Wagner Attack"
   ]
  },
  {
   "cell_type": "code",
   "execution_count": 2,
   "metadata": {},
   "outputs": [
    {
     "name": "stdout",
     "output_type": "stream",
     "text": [
      "WARNING:tensorflow:From c:\\Users\\ildar\\nc\\Уник\\мага\\2 курс\\1 сем\\АЗСИИ\\repo\\.venv\\Lib\\site-packages\\foolbox\\models\\tensorflow.py:13: is_gpu_available (from tensorflow.python.framework.test_util) is deprecated and will be removed in a future version.\n",
      "Instructions for updating:\n",
      "Use `tf.config.list_physical_devices('GPU')` instead.\n"
     ]
    },
    {
     "name": "stderr",
     "output_type": "stream",
     "text": [
      "WARNING:tensorflow:From c:\\Users\\ildar\\nc\\Уник\\мага\\2 курс\\1 сем\\АЗСИИ\\repo\\.venv\\Lib\\site-packages\\foolbox\\models\\tensorflow.py:13: is_gpu_available (from tensorflow.python.framework.test_util) is deprecated and will be removed in a future version.\n",
      "Instructions for updating:\n",
      "Use `tf.config.list_physical_devices('GPU')` instead.\n"
     ]
    },
    {
     "name": "stdout",
     "output_type": "stream",
     "text": [
      "tf.Tensor(7, shape=(), dtype=int64)\n"
     ]
    },
    {
     "data": {
      "image/png": "[encoded data removed]",
      "text/plain": [
       "<Figure size 1000x500 with 2 Axes>"
      ]
     },
     "metadata": {},
     "output_type": "display_data"
    }
   ],
   "source": [
    "import torch\n",
    "import torch.nn as nn\n",
    "import foolbox as fb\n",
    "import numpy as np\n",
    "import matplotlib.pyplot as plt\n",
    "import tensorflow as tf\n",
    "\n",
    "fmodel = fb.TensorFlowModel(model, bounds=(-1, 1))\n",
    "\n",
    "image = tf.convert_to_tensor(test_images[87], dtype=tf.float32)[None, ...]\n",
    "label = np.argmax(test_labels[0])\n",
    "label = tf.convert_to_tensor(label, dtype=tf.int64)\n",
    "\n",
    "attack = fb.attacks.L2CarliniWagnerAttack(steps=3)\n",
    "print(label)\n",
    "advs, _, success = attack(fmodel, image, label[None], epsilons=0.01)\n",
    "\n",
    "plt.figure(figsize=(10, 5))\n",
    "plt.subplot(1, 2, 1)\n",
    "plt.title(\"Оригинал\")\n",
    "plt.imshow(image[0].numpy(), cmap=\"gray\")\n",
    "plt.axis('off')\n",
    "\n",
    "plt.subplot(1, 2, 2)\n",
    "plt.title(\"Противоречивое изображение\")\n",
    "plt.imshow(advs[0].numpy(), cmap=\"gray\")\n",
    "plt.axis('off')\n",
    "\n",
    "plt.show()"
   ]
  },
  {
   "cell_type": "markdown",
   "metadata": {},
   "source": [
    "3. Оценка модели на противоречивых примерах"
   ]
  },
  {
   "cell_type": "code",
   "execution_count": 3,
   "metadata": {},
   "outputs": [
    {
     "name": "stdout",
     "output_type": "stream",
     "text": [
      "\u001b[1m313/313\u001b[0m \u001b[32m━━━━━━━━━━━━━━━━━━━━\u001b[0m\u001b[37m\u001b[0m \u001b[1m0s\u001b[0m 682us/step - accuracy: 0.0695 - loss: 2.2459\n",
      "Точность (CW атака): 0.07280000299215317\n"
     ]
    }
   ],
   "source": [
    "adversarial_images = []\n",
    "\n",
    "for i in range(len(test_images)):\n",
    "    image = tf.convert_to_tensor(test_images[i], dtype=tf.float32)[None, ...]\n",
    "    label = np.argmax(test_labels[i])\n",
    "    label = tf.convert_to_tensor(label, dtype=tf.int64)\n",
    "    advs, _, success = attack(fmodel, image, label[None], epsilons=0.01)\n",
    "    adversarial_images.append(advs)\n",
    "\n",
    "adversarial_images = tf.concat(adversarial_images, axis=0)\n",
    "\n",
    "adversarial_loss, adversarial_acc = model.evaluate(adversarial_images, test_labels)\n",
    "print(f'Точность (CW атака): {adversarial_acc}')"
   ]
  },
  {
   "cell_type": "markdown",
   "metadata": {},
   "source": [
    "Точность модели заметно снизилась на искажённых данных, что указывает на её уязвимость к небольшим целенаправленным изменениям. Это подчёркивает необходимость создания более устойчивых моделей и использования методов защиты от атак для повышения надёжности в практическом применении."
   ]
  }
 ],
 "metadata": {
  "kernelspec": {
   "display_name": ".venv",
   "language": "python",
   "name": "python3"
  },
  "language_info": {
   "codemirror_mode": {
    "name": "ipython",
    "version": 3
   },
   "file_extension": ".py",
   "mimetype": "text/x-python",
   "name": "python",
   "nbconvert_exporter": "python",
   "pygments_lexer": "ipython3",
   "version": "3.11.9"
  }
 },
 "nbformat": 4,
 "nbformat_minor": 2
}
