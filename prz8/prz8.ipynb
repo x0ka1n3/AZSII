{
 "cells": [
  {
   "cell_type": "markdown",
   "metadata": {},
   "source": [
    "Практическая работа №8. Методы защиты от атак на модели ИИ"
   ]
  },
  {
   "cell_type": "markdown",
   "metadata": {},
   "source": [
    "1. Защита с помощью Adversarial Training"
   ]
  },
  {
   "cell_type": "code",
   "execution_count": 2,
   "metadata": {},
   "outputs": [
    {
     "name": "stderr",
     "output_type": "stream",
     "text": [
      "c:\\Users\\Admin\\Nextcloud\\Уник\\мага\\2 курс\\1 сем\\АЗСИИ\\repo\\.venv\\Lib\\site-packages\\keras\\src\\layers\\reshaping\\flatten.py:37: UserWarning: Do not pass an `input_shape`/`input_dim` argument to a layer. When using Sequential models, prefer using an `Input(shape)` object as the first layer in the model instead.\n",
      "  super().__init__(**kwargs)\n"
     ]
    },
    {
     "name": "stdout",
     "output_type": "stream",
     "text": [
      "WARNING:tensorflow:5 out of the last 5 calls to <function TensorFlowTrainer.make_train_function.<locals>.one_step_on_iterator at 0x0000023960AE2A20> triggered tf.function retracing. Tracing is expensive and the excessive number of tracings could be due to (1) creating @tf.function repeatedly in a loop, (2) passing tensors with different shapes, (3) passing Python objects instead of tensors. For (1), please define your @tf.function outside of the loop. For (2), @tf.function has reduce_retracing=True option that can avoid unnecessary retracing. For (3), please refer to https://www.tensorflow.org/guide/function#controlling_retracing and https://www.tensorflow.org/api_docs/python/tf/function for  more details.\n",
      "WARNING:tensorflow:6 out of the last 6 calls to <function TensorFlowTrainer.make_train_function.<locals>.one_step_on_iterator at 0x0000023960AE2A20> triggered tf.function retracing. Tracing is expensive and the excessive number of tracings could be due to (1) creating @tf.function repeatedly in a loop, (2) passing tensors with different shapes, (3) passing Python objects instead of tensors. For (1), please define your @tf.function outside of the loop. For (2), @tf.function has reduce_retracing=True option that can avoid unnecessary retracing. For (3), please refer to https://www.tensorflow.org/guide/function#controlling_retracing and https://www.tensorflow.org/api_docs/python/tf/function for  more details.\n"
     ]
    },
    {
     "name": "stderr",
     "output_type": "stream",
     "text": [
      "WARNING:absl:You are saving your model as an HDF5 file via `model.save()` or `keras.saving.save_model(model)`. This file format is considered legacy. We recommend using instead the native Keras format, e.g. `model.save('my_model.keras')` or `keras.saving.save_model(model, 'my_model.keras')`. \n"
     ]
    }
   ],
   "source": [
    "import tensorflow as tf\n",
    "import numpy as np\n",
    "from tensorflow.keras.datasets import mnist\n",
    "\n",
    "# Загрузка данных MNIST\n",
    "(train_images, train_labels), (test_images, test_labels) = mnist.load_data()\n",
    "\n",
    "# Нормализация данных\n",
    "train_images = train_images / 255.0\n",
    "test_images = test_images / 255.0\n",
    "\n",
    "# Преобразование меток в one-hot encoding\n",
    "train_labels = tf.keras.utils.to_categorical(train_labels, 10)\n",
    "test_labels = tf.keras.utils.to_categorical(test_labels, 10)\n",
    "\n",
    "# Уменьшаем количество обучающих изображений до 1000\n",
    "train_images = train_images[:1000]\n",
    "train_labels = train_labels[:1000]\n",
    "\n",
    "# Функция FGSM атаки\n",
    "def fgsm_attack(image, epsilon, gradient):\n",
    "    perturbation = epsilon * np.sign(gradient)\n",
    "    adversarial_image = image + perturbation\n",
    "    adversarial_image = np.clip(adversarial_image, 0, 1)\n",
    "    return adversarial_image\n",
    "\n",
    "# Функция для генерации противоречивых примеров\n",
    "def generate_adversarial_examples(model, images, labels, epsilon):\n",
    "    adversarial_images = []\n",
    "    for i in range(len(images)):\n",
    "        image = tf.convert_to_tensor(images[i].reshape((1, 28, 28, 1)), dtype=tf.float32)\n",
    "        label = tf.convert_to_tensor(labels[i].reshape((1, 10)), dtype=tf.float32)\n",
    "\n",
    "        with tf.GradientTape() as tape:\n",
    "            tape.watch(image)\n",
    "            prediction = model(image)\n",
    "            loss = tf.keras.losses.categorical_crossentropy(label, prediction)\n",
    "        gradient = tape.gradient(loss, image)\n",
    "        adversarial_image = fgsm_attack(image.numpy(), epsilon, gradient.numpy())\n",
    "        adversarial_images.append(adversarial_image.reshape(28, 28))\n",
    "\n",
    "    return np.array(adversarial_images)\n",
    "\n",
    "# Создание модели\n",
    "def create_model():\n",
    "    model = tf.keras.Sequential([\n",
    "        tf.keras.layers.Flatten(input_shape=(28, 28)),\n",
    "        tf.keras.layers.Dense(128, activation='relu'),\n",
    "        tf.keras.layers.Dense(10, activation='softmax')\n",
    "    ])\n",
    "    model.compile(optimizer='adam', loss='categorical_crossentropy', metrics=['accuracy'])\n",
    "    return model\n",
    "\n",
    "# Обучение модели с противоречивыми примерами\n",
    "def adversarial_training(model, train_images, train_labels, epsilon):\n",
    "    for epoch in range(5):  # Короткое обучение для демонстрации\n",
    "        for i in range(0, len(train_images), 32):\n",
    "            batch_images = train_images[i:i+32]\n",
    "            batch_labels = train_labels[i:i+32]\n",
    "\n",
    "            # Генерация противоречивых примеров для текущей партии данных\n",
    "            adversarial_images = generate_adversarial_examples(model, batch_images, batch_labels, epsilon)\n",
    "\n",
    "            # Объединение оригинальных и противоречивых примеров\n",
    "            combined_images = np.concatenate([batch_images, adversarial_images], axis=0)\n",
    "            combined_labels = np.concatenate([batch_labels, batch_labels], axis=0)\n",
    "\n",
    "            # Обучение на комбинированных данных\n",
    "            model.train_on_batch(combined_images, combined_labels)\n",
    "\n",
    "# Инициализация модели\n",
    "model = create_model()\n",
    "\n",
    "# Тренировка модели с защитой на противоречивых примерах\n",
    "adversarial_training(model, train_images, train_labels, epsilon=0.1)\n",
    "\n",
    "# Сохранение защищенной модели\n",
    "model.save('adversarial_trained_model.h5')"
   ]
  },
  {
   "cell_type": "markdown",
   "metadata": {},
   "source": [
    "2. Градиентная маскировка (Gradient Masking)"
   ]
  },
  {
   "cell_type": "code",
   "execution_count": 3,
   "metadata": {},
   "outputs": [
    {
     "name": "stdout",
     "output_type": "stream",
     "text": [
      "Epoch 1/5\n",
      "\u001b[1m1875/1875\u001b[0m \u001b[32m━━━━━━━━━━━━━━━━━━━━\u001b[0m\u001b[37m\u001b[0m \u001b[1m7s\u001b[0m 3ms/step - accuracy: 0.8786 - loss: 0.4608\n",
      "Epoch 2/5\n",
      "\u001b[1m1875/1875\u001b[0m \u001b[32m━━━━━━━━━━━━━━━━━━━━\u001b[0m\u001b[37m\u001b[0m \u001b[1m5s\u001b[0m 3ms/step - accuracy: 0.9621 - loss: 0.1334\n",
      "Epoch 3/5\n",
      "\u001b[1m1875/1875\u001b[0m \u001b[32m━━━━━━━━━━━━━━━━━━━━\u001b[0m\u001b[37m\u001b[0m \u001b[1m5s\u001b[0m 3ms/step - accuracy: 0.9734 - loss: 0.0895\n",
      "Epoch 4/5\n",
      "\u001b[1m1875/1875\u001b[0m \u001b[32m━━━━━━━━━━━━━━━━━━━━\u001b[0m\u001b[37m\u001b[0m \u001b[1m7s\u001b[0m 3ms/step - accuracy: 0.9798 - loss: 0.0677\n",
      "Epoch 5/5\n",
      "\u001b[1m1875/1875\u001b[0m \u001b[32m━━━━━━━━━━━━━━━━━━━━\u001b[0m\u001b[37m\u001b[0m \u001b[1m5s\u001b[0m 3ms/step - accuracy: 0.9842 - loss: 0.0517\n"
     ]
    },
    {
     "name": "stderr",
     "output_type": "stream",
     "text": [
      "WARNING:absl:You are saving your model as an HDF5 file via `model.save()` or `keras.saving.save_model(model)`. This file format is considered legacy. We recommend using instead the native Keras format, e.g. `model.save('my_model.keras')` or `keras.saving.save_model(model, 'my_model.keras')`. \n"
     ]
    }
   ],
   "source": [
    "import tensorflow as tf\n",
    "from tensorflow.keras.layers import Activation\n",
    "from tensorflow.keras.datasets import mnist\n",
    "from tensorflow.keras.utils import to_categorical\n",
    "\n",
    "# Загрузка и подготовка данных\n",
    "(train_images, train_labels), (test_images, test_labels) = mnist.load_data()\n",
    "\n",
    "# Нормализация данных\n",
    "train_images = train_images / 255.0\n",
    "test_images = test_images / 255.0\n",
    "\n",
    "# Преобразование меток в one-hot encoding\n",
    "train_labels = to_categorical(train_labels, 10)\n",
    "test_labels = to_categorical(test_labels, 10)\n",
    "\n",
    "# Обновление модели для градиентной маскировки\n",
    "def create_masked_model():\n",
    "    model = tf.keras.Sequential([\n",
    "        tf.keras.layers.Flatten(input_shape=(28, 28)),\n",
    "        tf.keras.layers.Dense(128, activation='relu'),\n",
    "        tf.keras.layers.Dense(10),\n",
    "        Activation('softplus')  # Используем softplus вместо softmax для градиентной маскировки\n",
    "    ])\n",
    "    model.compile(optimizer='adam', loss='categorical_crossentropy', metrics=['accuracy'])\n",
    "    return model\n",
    "\n",
    "# Обучение модели с градиентной маскировкой\n",
    "masked_model = create_masked_model()\n",
    "masked_model.fit(train_images, train_labels, epochs=5)\n",
    "\n",
    "# Сохранение модели с градиентной маскировкой\n",
    "masked_model.save('masked_model.h5')"
   ]
  },
  {
   "cell_type": "markdown",
   "metadata": {},
   "source": [
    "3. Регуляризация и нормализация для повышения устойчивости"
   ]
  },
  {
   "cell_type": "code",
   "execution_count": null,
   "metadata": {},
   "outputs": [
    {
     "name": "stdout",
     "output_type": "stream",
     "text": [
      "Epoch 1/5\n",
      "\u001b[1m1875/1875\u001b[0m \u001b[32m━━━━━━━━━━━━━━━━━━━━\u001b[0m\u001b[37m\u001b[0m \u001b[1m8s\u001b[0m 3ms/step - accuracy: 0.7945 - loss: 1.3197\n",
      "Epoch 2/5\n",
      "\u001b[1m1875/1875\u001b[0m \u001b[32m━━━━━━━━━━━━━━━━━━━━\u001b[0m\u001b[37m\u001b[0m \u001b[1m5s\u001b[0m 3ms/step - accuracy: 0.8668 - loss: 0.6248\n",
      "Epoch 3/5\n",
      "\u001b[1m1875/1875\u001b[0m \u001b[32m━━━━━━━━━━━━━━━━━━━━\u001b[0m\u001b[37m\u001b[0m \u001b[1m5s\u001b[0m 3ms/step - accuracy: 0.8693 - loss: 0.6076\n",
      "Epoch 4/5\n",
      "\u001b[1m1875/1875\u001b[0m \u001b[32m━━━━━━━━━━━━━━━━━━━━\u001b[0m\u001b[37m\u001b[0m \u001b[1m5s\u001b[0m 2ms/step - accuracy: 0.8652 - loss: 0.6003\n",
      "Epoch 5/5\n",
      "\u001b[1m1875/1875\u001b[0m \u001b[32m━━━━━━━━━━━━━━━━━━━━\u001b[0m\u001b[37m\u001b[0m \u001b[1m5s\u001b[0m 2ms/step - accuracy: 0.8592 - loss: 0.6120\n"
     ]
    },
    {
     "name": "stderr",
     "output_type": "stream",
     "text": [
      "WARNING:absl:You are saving your model as an HDF5 file via `model.save()` or `keras.saving.save_model(model)`. This file format is considered legacy. We recommend using instead the native Keras format, e.g. `model.save('my_model.keras')` or `keras.saving.save_model(model, 'my_model.keras')`. \n"
     ]
    }
   ],
   "source": [
    "# Модель с регуляризацией и нормализацией\n",
    "def create_regularized_model():\n",
    "  model = tf.keras.Sequential([\n",
    "    tf.keras.layers.Flatten(input_shape=(28, 28)),\n",
    "    tf.keras.layers.Dense(128, activation='relu',\n",
    "kernel_regularizer=tf.keras.regularizers.l2(0.01)),\n",
    "    tf.keras.layers.Dropout(0.5),tf.keras.layers.BatchNormalization(),\n",
    "    tf.keras.layers.Dense(10, activation='softmax')\n",
    "  ])\n",
    "  model.compile(optimizer='adam', loss='categorical_crossentropy', metrics=['accuracy'])\n",
    "  return model\n",
    "\n",
    "# Обучение модели с регуляризацией и нормализацией\n",
    "regularized_model = create_regularized_model()\n",
    "regularized_model.fit(train_images, train_labels, epochs=5)\n",
    "\n",
    "# Сохранение модели с регуляризацией\n",
    "regularized_model.save('regularized_model.h5')"
   ]
  },
  {
   "cell_type": "markdown",
   "metadata": {},
   "source": [
    "4. Оценка моделей на противоречивых примерах"
   ]
  },
  {
   "cell_type": "code",
   "execution_count": 5,
   "metadata": {},
   "outputs": [
    {
     "name": "stderr",
     "output_type": "stream",
     "text": [
      "WARNING:absl:Compiled the loaded model, but the compiled metrics have yet to be built. `model.compile_metrics` will be empty until you train or evaluate the model.\n"
     ]
    },
    {
     "name": "stdout",
     "output_type": "stream",
     "text": [
      "\u001b[1m313/313\u001b[0m \u001b[32m━━━━━━━━━━━━━━━━━━━━\u001b[0m\u001b[37m\u001b[0m \u001b[1m1s\u001b[0m 1ms/step - accuracy: 0.4907 - loss: 1.4744\n"
     ]
    },
    {
     "name": "stderr",
     "output_type": "stream",
     "text": [
      "WARNING:absl:Compiled the loaded model, but the compiled metrics have yet to be built. `model.compile_metrics` will be empty until you train or evaluate the model.\n"
     ]
    },
    {
     "name": "stdout",
     "output_type": "stream",
     "text": [
      "Точность защищенной модели: 0.5471000075340271\n",
      "\u001b[1m313/313\u001b[0m \u001b[32m━━━━━━━━━━━━━━━━━━━━\u001b[0m\u001b[37m\u001b[0m \u001b[1m1s\u001b[0m 1ms/step - accuracy: 0.7072 - loss: 0.9404\n",
      "Точность модели с градиентной маскировкой: 0.757099986076355\n"
     ]
    }
   ],
   "source": [
    "# Загрузка атакованной модели\n",
    "protected_model = tf.keras.models.load_model('adversarial_trained_model.h5')\n",
    "\n",
    "# Генерация противоречивых примеров для тестовых данных\n",
    "adversarial_test_images = generate_adversarial_examples(protected_model, test_images, test_labels, epsilon=0.1)\n",
    "\n",
    "# Оценка защищенной модели на противоречивых примерах\n",
    "test_loss, test_acc = protected_model.evaluate(adversarial_test_images,test_labels)\n",
    "print(f'Точность защищенной модели: {test_acc}')\n",
    "\n",
    "# Загрузка атакованной модели\n",
    "masked_model = tf.keras.models.load_model('masked_model.h5')\n",
    "\n",
    "# Оценка модели с градиентной маскировкой на противоречивых примерах\n",
    "test_loss, test_acc = masked_model.evaluate(adversarial_test_images,test_labels)\n",
    "print(f'Точность модели с градиентной маскировкой: {test_acc}')"
   ]
  },
  {
   "cell_type": "code",
   "execution_count": 7,
   "metadata": {},
   "outputs": [
    {
     "name": "stderr",
     "output_type": "stream",
     "text": [
      "WARNING:absl:Compiled the loaded model, but the compiled metrics have yet to be built. `model.compile_metrics` will be empty until you train or evaluate the model.\n"
     ]
    },
    {
     "name": "stdout",
     "output_type": "stream",
     "text": [
      "\u001b[1m313/313\u001b[0m \u001b[32m━━━━━━━━━━━━━━━━━━━━\u001b[0m\u001b[37m\u001b[0m \u001b[1m1s\u001b[0m 1ms/step - accuracy: 0.6920 - loss: 1.0750\n",
      "Точность модели: 0.7376000285148621\n"
     ]
    }
   ],
   "source": [
    "# Загрузка атакованной модели\n",
    "regularized_model = tf.keras.models.load_model('regularized_model.h5')\n",
    "\n",
    "# Оценка модели на противоречивых примерах\n",
    "test_loss, test_acc = regularized_model.evaluate(adversarial_test_images, test_labels)\n",
    "print(f'Точность модели: {test_acc}')"
   ]
  },
  {
   "cell_type": "markdown",
   "metadata": {},
   "source": [
    "В работе была реализована защита модели от атак с использованием adversarial-примеров. Для этого применялись методы FGSM, градиентная маскировка и подход с регуляризацией и нормализацией. Обучение включало оригинальные и противоречивые примеры, чтобы повысить устойчивость модели. Градиентная маскировка использовала функцию активации softplus вместо softmax для снижения влияния резких градиентов.\n",
    "\n",
    "Результаты показали, что модель с с градиентной маскировкой оказалась наиболее эффективной, демонстрируя лучшую точность на adversarial-примерах. Модель регуляризацией и нормализацией также показала хорошие результаты, но уступила по устойчивости."
   ]
  }
 ],
 "metadata": {
  "kernelspec": {
   "display_name": ".venv",
   "language": "python",
   "name": "python3"
  },
  "language_info": {
   "codemirror_mode": {
    "name": "ipython",
    "version": 3
   },
   "file_extension": ".py",
   "mimetype": "text/x-python",
   "name": "python",
   "nbconvert_exporter": "python",
   "pygments_lexer": "ipython3",
   "version": "3.11.5"
  }
 },
 "nbformat": 4,
 "nbformat_minor": 2
}
